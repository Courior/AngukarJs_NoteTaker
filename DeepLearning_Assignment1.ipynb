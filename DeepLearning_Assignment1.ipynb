{
  "nbformat": 4,
  "nbformat_minor": 0,
  "metadata": {
    "colab": {
      "name": "DeepLearning_Assignment1.ipynb",
      "version": "0.3.2",
      "provenance": [],
      "collapsed_sections": [],
      "include_colab_link": true
    },
    "kernelspec": {
      "name": "python3",
      "display_name": "Python 3"
    }
  },
  "cells": [
    {
      "cell_type": "markdown",
      "metadata": {
        "id": "view-in-github",
        "colab_type": "text"
      },
      "source": [
        "<a href=\"https://colab.research.google.com/github/Courior/AngukarJs_NoteTaker/blob/master/DeepLearning_Assignment1.ipynb\" target=\"_parent\"><img src=\"https://colab.research.google.com/assets/colab-badge.svg\" alt=\"Open In Colab\"/></a>"
      ]
    },
    {
      "metadata": {
        "id": "qrmE3yavTfYk",
        "colab_type": "text"
      },
      "cell_type": "markdown",
      "source": [
        "**Part A - Tensorflow and Low Level API**"
      ]
    },
    {
      "metadata": {
        "id": "K6qNyijoTv8k",
        "colab_type": "text"
      },
      "cell_type": "markdown",
      "source": [
        "*(i) Two Layer Classifier*"
      ]
    },
    {
      "metadata": {
        "id": "MA15M7_BgU5X",
        "colab_type": "code",
        "colab": {}
      },
      "cell_type": "code",
      "source": [
        "import tensorflow as tf \n",
        "fashion_mnist = tf.keras.datasets.fashion_mnist\n",
        "(train_images, train_labels), (test_images, test_labels) = fashion_mnist.load_data() "
      ],
      "execution_count": 0,
      "outputs": []
    },
    {
      "metadata": {
        "id": "GJQUAdv3hH7d",
        "colab_type": "code",
        "colab": {
          "base_uri": "https://localhost:8080/",
          "height": 102
        },
        "outputId": "b169b427-e9f6-48d2-a446-1b223015d56e"
      },
      "cell_type": "code",
      "source": [
        "import numpy as np\n",
        "train_dress_images = train_images[train_labels == 3]\n",
        "train_bag_images = train_images[train_labels == 8]\n",
        "train_dress_bag_images = np.append(train_dress_images, train_bag_images, axis=0)\n",
        "train_dress_labels = np.zeros((len(train_dress_images),), dtype=float)\n",
        "train_bag_labels = np.ones((len(train_bag_images),), dtype=float)\n",
        "train_dress_bag_labels = np.append(train_dress_labels, train_bag_labels, axis=0)\n",
        "\n",
        "test_dress_images = test_images[test_labels == 3]\n",
        "test_bag_images = test_images[test_labels == 8]\n",
        "test_dress_bag_images = np.append(test_dress_images, test_bag_images, axis=0)\n",
        "test_dress_labels = np.zeros((len(test_dress_images),), dtype=float)\n",
        "test_bag_labels = np.ones((len(test_bag_images),), dtype=float)\n",
        "test_dress_bag_labels = np.append(test_dress_labels, test_bag_labels, axis=0)\n",
        "\n",
        "print(len(train_images))\n",
        "print(len(train_dress_bag_images))\n",
        "print(len(train_dress_images))\n",
        "print(train_dress_bag_labels)\n",
        "# Reshape training dataset so that the features are flattened\n",
        "train_dress_bag_images = train_dress_bag_images.reshape(\n",
        "    train_dress_bag_images.shape[0], -1).astype('float32')\n",
        "test_dress_bag_images = test_dress_bag_images.reshape(\n",
        "    test_dress_bag_images.shape[0], -1).astype('float32')\n",
        "\n",
        "train_dress_bag_images = train_dress_bag_images.T\n",
        "test_dress_bag_images = test_dress_bag_images.T\n",
        "train_dress_bag_labels = np.reshape(train_dress_bag_labels, (-1,1)).T\n",
        "test_dress_bag_labels = np.reshape(test_dress_bag_labels, (-1,1)).T\n",
        "print(test_dress_bag_labels.shape)"
      ],
      "execution_count": 2,
      "outputs": [
        {
          "output_type": "stream",
          "text": [
            "60000\n",
            "12000\n",
            "6000\n",
            "[0. 0. 0. ... 1. 1. 1.]\n",
            "(1, 2000)\n"
          ],
          "name": "stdout"
        }
      ]
    },
    {
      "metadata": {
        "id": "3EptijJtvZBs",
        "colab_type": "code",
        "colab": {}
      },
      "cell_type": "code",
      "source": [
        "num_Iterations= 1000\n",
        "display_step= 100\n",
        "\n",
        "\n",
        "# Model Params\n",
        "n_inputs = 784\n",
        "n_hidden = 100\n",
        "n_outputs=1\n",
        "learning_rate= 0.01\n",
        "n_epochs = 40\n",
        "\n",
        "#training label data\n",
        "x = tf.placeholder(tf.float32, [n_inputs,None])\n",
        "y_ = tf.placeholder(tf.float32, [1,None])\n"
      ],
      "execution_count": 0,
      "outputs": []
    },
    {
      "metadata": {
        "id": "m6oXd1cc6z1C",
        "colab_type": "code",
        "colab": {
          "base_uri": "https://localhost:8080/",
          "height": 88
        },
        "outputId": "abb6e146-1459-4a64-c0d3-06167d7596b8"
      },
      "cell_type": "code",
      "source": [
        "# Weight Bias for each layer\n",
        "W1 = tf.get_variable(\"W1\", [n_hidden, n_inputs], initializer = \n",
        "                     tf.glorot_uniform_initializer(seed=1))\n",
        "B1 = tf.get_variable(\"b1\", [n_hidden, 1], initializer = tf.zeros_initializer())"
      ],
      "execution_count": 4,
      "outputs": [
        {
          "output_type": "stream",
          "text": [
            "WARNING:tensorflow:From /usr/local/lib/python3.6/dist-packages/tensorflow/python/framework/op_def_library.py:263: colocate_with (from tensorflow.python.framework.ops) is deprecated and will be removed in a future version.\n",
            "Instructions for updating:\n",
            "Colocations handled automatically by placer.\n"
          ],
          "name": "stdout"
        }
      ]
    },
    {
      "metadata": {
        "id": "e6PDp0niveO9",
        "colab_type": "code",
        "colab": {}
      },
      "cell_type": "code",
      "source": [
        "W2 = tf.get_variable(\"W2\", [n_outputs, n_hidden], \n",
        "                     initializer = tf.glorot_uniform_initializer(seed=1))\n",
        "B2 = tf.get_variable(\"b2\", [n_outputs, 1], \n",
        "                     initializer = tf.zeros_initializer())"
      ],
      "execution_count": 0,
      "outputs": []
    },
    {
      "metadata": {
        "id": "tLT9q4AW7oS6",
        "colab_type": "code",
        "colab": {}
      },
      "cell_type": "code",
      "source": [
        "A1 = tf.add(tf.matmul(W1, x), B1)\n",
        "H1 = tf.nn.relu(A1)\n",
        "\n",
        "W2_T = tf.transpose(W2) \n",
        "\n",
        "y_pred = tf.add(tf.matmul(W2, H1),B2)\n",
        "y_pred_sigmoid = tf.sigmoid(y_pred) \n",
        "\n",
        "x_entropy = tf.nn.sigmoid_cross_entropy_with_logits(logits=y_pred, labels=y_)\n",
        "loss = tf.reduce_mean(x_entropy)\n",
        "\n",
        "train_step = tf.train.GradientDescentOptimizer(learning_rate).minimize(loss)\n",
        "\n",
        "predictions = tf.round(y_pred_sigmoid)\n",
        "predictions_correct = tf.cast(tf.equal(predictions, y_), tf.float32)\n",
        "accuracy = tf.reduce_mean(predictions_correct)\n"
      ],
      "execution_count": 0,
      "outputs": []
    },
    {
      "metadata": {
        "id": "TXSD-IrrRHJu",
        "colab_type": "code",
        "colab": {
          "base_uri": "https://localhost:8080/",
          "height": 34
        },
        "outputId": "39548236-1f2a-407a-c733-723953fd6dcb"
      },
      "cell_type": "code",
      "source": [
        "print(train_dress_bag_images.dtype)"
      ],
      "execution_count": 7,
      "outputs": [
        {
          "output_type": "stream",
          "text": [
            "float32\n"
          ],
          "name": "stdout"
        }
      ]
    },
    {
      "metadata": {
        "id": "i-p0u9MkJXCv",
        "colab_type": "code",
        "colab": {
          "base_uri": "https://localhost:8080/",
          "height": 714
        },
        "outputId": "fc684c2f-4012-4277-d793-ada02cedf390"
      },
      "cell_type": "code",
      "source": [
        "#Start training\n",
        "with tf.Session() as sess:\n",
        "  sess.run(tf.global_variables_initializer())\n",
        "  for epoch in range(n_epochs):\n",
        "    _, currentLoss, acc = sess.run([train_step, loss, accuracy], \n",
        "                                   feed_dict={x: train_dress_bag_images, \n",
        "                                              y_:train_dress_bag_labels})\n",
        "    print (currentLoss, \" \", acc)\n",
        "  print (\"Final Validation Accuracy \", sess.run(accuracy, \n",
        "                                                feed_dict={\n",
        "                                                    x: test_dress_bag_images, \n",
        "                                                    y_: test_dress_bag_labels}))\n"
      ],
      "execution_count": 8,
      "outputs": [
        {
          "output_type": "stream",
          "text": [
            "33.430927   0.40441668\n",
            "1067.6387   0.6835833\n",
            "172766.23   0.5\n",
            "7.5709667   0.8516667\n",
            "9.246185   0.85791665\n",
            "0.5991754   0.58466667\n",
            "0.5312035   0.63341665\n",
            "0.598174   0.717\n",
            "0.5025573   0.83533335\n",
            "0.38415045   0.89625\n",
            "0.19672711   0.9425833\n",
            "0.14551131   0.9543333\n",
            "0.13506822   0.96383333\n",
            "0.12844925   0.9636667\n",
            "0.12266154   0.9658333\n",
            "0.11740979   0.96708333\n",
            "0.11266065   0.96825\n",
            "0.10843703   0.9688333\n",
            "0.10479594   0.9694167\n",
            "0.10151072   0.97041667\n",
            "0.09854318   0.9711667\n",
            "0.095901966   0.9715833\n",
            "0.09347045   0.97241664\n",
            "0.0911652   0.97275\n",
            "0.089015715   0.9730833\n",
            "0.08698284   0.9735\n",
            "0.085074514   0.97425\n",
            "0.08328893   0.97475\n",
            "0.08157738   0.9751667\n",
            "0.07996168   0.97583336\n",
            "0.07834204   0.9763333\n",
            "0.07672032   0.9765\n",
            "0.07521229   0.97675\n",
            "0.07400995   0.97675\n",
            "0.07305372   0.97675\n",
            "0.072134726   0.9769167\n",
            "0.071307614   0.9773333\n",
            "0.0705288   0.9775\n",
            "0.06978875   0.97783333\n",
            "0.069073886   0.97825\n",
            "Final Validation Accuracy  0.973\n"
          ],
          "name": "stdout"
        }
      ]
    },
    {
      "metadata": {
        "id": "tAbwKEYdUAQ9",
        "colab_type": "text"
      },
      "cell_type": "markdown",
      "source": [
        "(ii) Multi Class Classification"
      ]
    },
    {
      "metadata": {
        "id": "hdmpaMgJUO2e",
        "colab_type": "code",
        "colab": {
          "base_uri": "https://localhost:8080/",
          "height": 68
        },
        "outputId": "f63de1cc-d237-4f31-9fda-ea32a417724d"
      },
      "cell_type": "code",
      "source": [
        "X_train = train_images.reshape(train_images.shape[0], -1).astype('float32')\n",
        "X_test = test_images.reshape(test_images.shape[0], -1).astype('float32')\n",
        "# Normalize training data\n",
        "X_train = X_train / 255.0\n",
        "X_test = X_test / 255.0\n",
        "X_train = X_train.T\n",
        "X_test = X_test.T\n",
        "# Convert labels to one-hot-encoded\n",
        "number_of_classes = 10\n",
        "Y_train = tf.keras.utils.to_categorical(train_labels, number_of_classes)\n",
        "Y_test = tf.keras.utils.to_categorical(test_labels, number_of_classes)\n",
        "# Transpose train labels so that dimensions\n",
        "# are number of classes * number of instances\n",
        "Y_train = Y_train.T\n",
        "Y_test = Y_test.T\n",
        "print (\"Data extracted and reshaped: \")\n",
        "print (X_train.shape, Y_train.shape, X_test.shape, Y_test.shape)\n",
        "print (X_train.dtype, Y_train.dtype, X_test.dtype, Y_test.dtype)\n"
      ],
      "execution_count": 9,
      "outputs": [
        {
          "output_type": "stream",
          "text": [
            "Data extracted and reshaped: \n",
            "(784, 60000) (10, 60000) (784, 10000) (10, 10000)\n",
            "float32 float32 float32 float32\n"
          ],
          "name": "stdout"
        }
      ]
    },
    {
      "metadata": {
        "id": "V_3osUQU6ZXN",
        "colab_type": "code",
        "colab": {
          "base_uri": "https://localhost:8080/",
          "height": 714
        },
        "outputId": "f7ea83ab-e225-4db5-c16a-a5cbaa5ffada"
      },
      "cell_type": "code",
      "source": [
        "import time\n",
        "# Model Params\n",
        "n_inputs = 784\n",
        "n_layer_1 = 300\n",
        "n_layer_2 = 100\n",
        "n_outputs=10\n",
        "learning_rate= 0.01\n",
        "n_epochs = 40\n",
        "error_values= list()\n",
        "acc_values= list()\n",
        "epoch_times= list()\n",
        "tf.reset_default_graph()\n",
        "\n",
        "with tf.name_scope(\"multi_class\"):\n",
        "  #training label data\n",
        "  x_ = tf.placeholder(tf.float32, [n_inputs,None], name=\"x_\")\n",
        "  y = tf.placeholder(tf.float32, [10,None], name=\"y\")\n",
        "\n",
        "  WL1 = tf.get_variable(\"WL1\", [n_layer_1, n_inputs],initializer = \n",
        "                        tf.glorot_uniform_initializer(seed=1) )\n",
        "  bL1 = tf.get_variable(\"bL1\", [n_layer_1, 1], initializer = \n",
        "                        tf.zeros_initializer())\n",
        "  WL2 = tf.get_variable(\"WL2\", [n_layer_2, n_layer_1],initializer = \n",
        "                        tf.glorot_uniform_initializer(seed=1) )\n",
        "  bL2 = tf.get_variable(\"bL2\", [n_layer_2, 1], initializer = \n",
        "                        tf.zeros_initializer())\n",
        "  WL3 = tf.get_variable(\"WL3\", [n_outputs, n_layer_2],initializer = \n",
        "                        tf.glorot_uniform_initializer(seed=1) )\n",
        "  bL3 = tf.get_variable(\"bL3\", [n_outputs, 1], initializer = \n",
        "                        tf.zeros_initializer())\n",
        "\n",
        "  A1 = tf.add(tf.matmul(WL1, x_), bL1)\n",
        "  H1 = tf.nn.relu(A1)\n",
        "  A2 = tf.add(tf.matmul(WL2, H1), bL2)\n",
        "  H2 = tf.nn.relu(A2)\n",
        "  A3 = tf.add(tf.matmul(WL3, H2), bL3)\n",
        "\n",
        "  logits = tf.transpose(A3)\n",
        "  labels = tf.transpose(y)\n",
        "\n",
        "  error = tf.nn.softmax_cross_entropy_with_logits_v2(logits=logits, \n",
        "                                                     labels=labels)\n",
        "  loss = tf.reduce_mean(error)\n",
        "\n",
        "  optimizer = tf.train.GradientDescentOptimizer(learning_rate).minimize(loss)\n",
        "\n",
        "  correct_prediction = tf.equal(tf.argmax(A3), tf.argmax(y))\n",
        "\n",
        "  accuracy = tf.reduce_mean(tf.cast(correct_prediction, \"float\"))\n",
        "\n",
        "\n",
        "  with tf.Session() as sess1:\n",
        "    sess1.run(tf.global_variables_initializer())\n",
        "    for epoch in range(n_epochs):\n",
        "      start_time = time.time()\n",
        "      _, currentLoss, acc = sess1.run([optimizer, loss, accuracy], \n",
        "                                      feed_dict={x_:X_train, y:Y_train})\n",
        "      epoch_times.append(time.time() - start_time)\n",
        "      print (currentLoss, \" \", acc)\n",
        "      error_values.append(currentLoss)\n",
        "      acc_values.append(acc)\n",
        "    print (\"Final Validation Accuracy \", sess1.run(accuracy, \n",
        "                                                   feed_dict={x_:X_test, \n",
        "                                                              y:Y_test}))\n"
      ],
      "execution_count": 50,
      "outputs": [
        {
          "output_type": "stream",
          "text": [
            "2.4212787   0.0377\n",
            "2.3744516   0.0563\n",
            "2.3332126   0.08141667\n",
            "2.2970483   0.1093\n",
            "2.2650964   0.13246667\n",
            "2.2363865   0.1541\n",
            "2.2101717   0.17466667\n",
            "2.1859055   0.19478333\n",
            "2.1632242   0.21291667\n",
            "2.1418507   0.23116666\n",
            "2.1215613   0.2492\n",
            "2.102186   0.26523334\n",
            "2.0835872   0.27993333\n",
            "2.065653   0.29303333\n",
            "2.0482862   0.30435\n",
            "2.031427   0.31446666\n",
            "2.015002   0.32483333\n",
            "1.9989715   0.33458334\n",
            "1.9832876   0.34416667\n",
            "1.9679234   0.35343334\n",
            "1.9528588   0.36281666\n",
            "1.9380683   0.37285\n",
            "1.9235412   0.38246667\n",
            "1.9092653   0.39285\n",
            "1.8952293   0.40335\n",
            "1.8814296   0.41456667\n",
            "1.8678563   0.42403334\n",
            "1.854493   0.43403333\n",
            "1.8413328   0.44305\n",
            "1.828368   0.45198333\n",
            "1.8155909   0.46071666\n",
            "1.8029957   0.4682\n",
            "1.7905854   0.4753\n",
            "1.7783554   0.4827\n",
            "1.7662992   0.48988333\n",
            "1.7544154   0.49625\n",
            "1.7426956   0.50298333\n",
            "1.7311378   0.5098\n",
            "1.7197373   0.5158\n",
            "1.7084917   0.5212833\n",
            "Final Validation Accuracy  0.5207\n"
          ],
          "name": "stdout"
        }
      ]
    },
    {
      "metadata": {
        "id": "zJChIC7v4j9N",
        "colab_type": "code",
        "colab": {
          "base_uri": "https://localhost:8080/",
          "height": 735
        },
        "outputId": "705fe0aa-54d8-4571-de44-02fe6192ba9e"
      },
      "cell_type": "code",
      "source": [
        "import matplotlib.pyplot as plt\n",
        "import seaborn as sns\n",
        "sns.set_style(\"whitegrid\")\n",
        "plt.title('CEE and Accuracy')\n",
        "plt.plot(error_values, label=\"Cross Entropy Error\")\n",
        "plt.plot(acc_values, label=\"Accuracy\")\n",
        "plt.xlabel('Epoch')\n",
        "plt.legend()\n",
        "\n",
        "plt.show()\n",
        "\n",
        "plt.title('Epoch Times')\n",
        "plt.plot(epoch_times)\n",
        "plt.ylabel('Completion Time')\n",
        "plt.xlabel('Epoch')\n",
        "\n",
        "plt.show()"
      ],
      "execution_count": 51,
      "outputs": [
        {
          "output_type": "display_data",
          "data": {
            "image/png": "[encoded data removed]",
            "text/plain": [
              "<Figure size 576x396 with 1 Axes>"
            ]
          },
          "metadata": {
            "tags": []
          }
        },
        {
          "output_type": "display_data",
          "data": {
            "image/png": "[encoded data removed]",
            "text/plain": [
              "<Figure size 576x396 with 1 Axes>"
            ]
          },
          "metadata": {
            "tags": []
          }
        }
      ]
    },
    {
      "metadata": {
        "id": "FupRJGiG7jA7",
        "colab_type": "code",
        "colab": {
          "base_uri": "https://localhost:8080/",
          "height": 714
        },
        "outputId": "3d409c48-9b51-4074-f84c-d8c2d58b8671"
      },
      "cell_type": "code",
      "source": [
        "import random as rand\n",
        "# Model Params\n",
        "n_inputs = 784\n",
        "n_layer_1 = 300\n",
        "n_layer_2 = 100\n",
        "n_outputs=10\n",
        "learning_rate= 0.01\n",
        "n_epochs = 40\n",
        "error_values= list()\n",
        "acc_values= list()\n",
        "epoch_times= list()\n",
        "mini_batch_size = 128\n",
        "tf.reset_default_graph()\n",
        "def create_batches(mini_batch_size, x, y):\n",
        "  x_T = x.T\n",
        "  y_T = y.T\n",
        "  indices = list(range(x_T.shape[1]))\n",
        "  # I dont know if I should shuffle the indicies or not, I dont think each batch\n",
        "  # should be the same regardless of the epoch. Each epoch should split the \n",
        "  # training data into seperate batches\n",
        "  rand.shuffle(indices)\n",
        "  splits = list()\n",
        "  splits = np.array_split(indices, mini_batch_size)\n",
        "  X_batch = list()\n",
        "  Y_batch = list()\n",
        "  for split in splits:\n",
        "    X_batch.append(x_T[split].T)\n",
        "    Y_batch.append(y_T[split].T)\n",
        "  return X_batch, Y_batch\n",
        "\n",
        "with tf.name_scope(\"mini_batch\"):\n",
        "  #training label data\n",
        "  x_ = tf.placeholder(tf.float32, [n_inputs,None], name=\"x_\")\n",
        "  y = tf.placeholder(tf.float32, [10,None], name=\"y\")\n",
        "\n",
        "  WL1 = tf.get_variable(\"WL1\", [n_layer_1, n_inputs],initializer = \n",
        "                        tf.glorot_uniform_initializer(seed=1) )\n",
        "  bL1 = tf.get_variable(\"bL1\", [n_layer_1, 1], initializer = \n",
        "                        tf.zeros_initializer())\n",
        "  WL2 = tf.get_variable(\"WL2\", [n_layer_2, n_layer_1],initializer = \n",
        "                        tf.glorot_uniform_initializer(seed=1) )\n",
        "  bL2 = tf.get_variable(\"bL2\", [n_layer_2, 1], initializer = \n",
        "                        tf.zeros_initializer())\n",
        "  WL3 = tf.get_variable(\"WL3\", [n_outputs, n_layer_2],initializer = \n",
        "                        tf.glorot_uniform_initializer(seed=1) )\n",
        "  bL3 = tf.get_variable(\"bL3\", [n_outputs, 1], initializer = \n",
        "                        tf.zeros_initializer())\n",
        "\n",
        "  A1 = tf.add(tf.matmul(WL1, x_), bL1)\n",
        "  H1 = tf.nn.relu(A1)\n",
        "  A2 = tf.add(tf.matmul(WL2, H1), bL2)\n",
        "  H2 = tf.nn.relu(A2)\n",
        "  A3 = tf.add(tf.matmul(WL3, H2), bL3)\n",
        "\n",
        "  logits = tf.transpose(A3)\n",
        "  labels = tf.transpose(y)\n",
        "\n",
        "  error = tf.nn.softmax_cross_entropy_with_logits_v2(logits=logits, \n",
        "                                                     labels=labels)\n",
        "  loss = tf.reduce_mean(error)\n",
        "\n",
        "  optimizer = tf.train.GradientDescentOptimizer(learning_rate).minimize(loss)\n",
        "\n",
        "  correct_prediction = tf.equal(tf.argmax(A3), tf.argmax(y))\n",
        "\n",
        "  accuracy = tf.reduce_mean(tf.cast(correct_prediction, \"float\"))\n",
        "\n",
        "\n",
        "  with tf.Session() as sess1:\n",
        "    sess1.run(tf.global_variables_initializer())\n",
        "    for epoch in range(n_epochs):\n",
        "      start_time = time.time()\n",
        "      X_batches, y_batches = create_batches(mini_batch_size, X_train, Y_train)\n",
        "      epoch_avg_currentLoss = 0\n",
        "      epoch_avg_acc = 0 \n",
        "      for i in range(len(X_batches)):\n",
        "        _, currentLoss, acc = sess1.run([optimizer, loss, accuracy],feed_dict={x_:X_batches[i], y:y_batches[i]})\n",
        "        error_values.append(currentLoss)\n",
        "        acc_values.append(acc)\n",
        "      epoch_times.append(time.time() - start_time)\n",
        "      # I know this adds to the run time but its just so I can compare results \n",
        "      # to the non minibatch version\n",
        "      # currentLoss, acc = sess1.run([loss, accuracy],feed_dict={x_:X_train, y:Y_train})\n",
        "      print(currentLoss, \" \", acc, \" \" ,epoch_times[-1])\n",
        "    print (\"Final Validation Accuracy \", sess1.run(accuracy, \n",
        "                                                   feed_dict={x_:X_test, \n",
        "                                                              y:Y_test}))"
      ],
      "execution_count": 74,
      "outputs": [
        {
          "output_type": "stream",
          "text": [
            "1.1927654   0.6666667   0.32681846618652344\n",
            "0.6314792   1.0   0.2788262367248535\n",
            "0.87551993   0.6666667   0.3220024108886719\n",
            "0.37174097   1.0   0.29726672172546387\n",
            "0.494054   1.0   0.28463149070739746\n",
            "0.67441076   0.8333333   0.27785706520080566\n",
            "0.20392542   1.0   0.268402099609375\n",
            "0.19912036   0.8333333   0.238785982131958\n",
            "0.7593789   0.6666667   0.23694753646850586\n",
            "0.8729268   0.8333333   0.247147798538208\n",
            "0.38874602   1.0   0.25615525245666504\n",
            "0.7649495   0.6666667   0.2542304992675781\n",
            "0.1876422   1.0   0.2512495517730713\n",
            "0.47567248   0.8333333   0.24342012405395508\n",
            "0.4745443   0.6666667   0.24984240531921387\n",
            "0.20846093   1.0   0.25350427627563477\n",
            "0.44413313   0.8333333   0.25229907035827637\n",
            "0.14819326   1.0   0.24730300903320312\n",
            "0.2027967   0.8333333   0.252504825592041\n",
            "0.25156918   0.8333333   0.2350938320159912\n",
            "0.20323549   0.8333333   0.2446136474609375\n",
            "0.633636   0.8333333   0.2538015842437744\n",
            "0.29329285   1.0   0.261599063873291\n",
            "0.047005117   1.0   0.24369430541992188\n",
            "0.09273032   1.0   0.2569997310638428\n",
            "0.63219804   0.8333333   0.2550387382507324\n",
            "0.059979606   1.0   0.2570011615753174\n",
            "0.26956353   0.8333333   0.2602572441101074\n",
            "0.09149596   1.0   0.2515676021575928\n",
            "0.70589155   0.8333333   0.24090337753295898\n",
            "0.06491142   1.0   0.2557401657104492\n",
            "0.14749245   1.0   0.256533145904541\n",
            "0.06631426   1.0   0.2516810894012451\n",
            "0.025541658   1.0   0.24666953086853027\n",
            "0.08102445   1.0   0.2509312629699707\n",
            "0.5105161   0.8333333   0.24636220932006836\n",
            "0.1022472   1.0   0.2364516258239746\n",
            "0.01257405   1.0   0.2508809566497803\n",
            "0.069589116   1.0   0.24882912635803223\n",
            "0.07247845   1.0   0.2629520893096924\n",
            "Final Validation Accuracy  0.7908\n"
          ],
          "name": "stdout"
        }
      ]
    },
    {
      "metadata": {
        "id": "VDj7WfyupCbx",
        "colab_type": "code",
        "colab": {
          "base_uri": "https://localhost:8080/",
          "height": 735
        },
        "outputId": "2c6a5b07-603b-42c9-fda2-5cbc69e82751"
      },
      "cell_type": "code",
      "source": [
        "import matplotlib.pyplot as plt\n",
        "plt.title('CEE and Accuracy')\n",
        "plt.plot(error_values, label=\"Cross Entropy Error\")\n",
        "plt.plot(acc_values, label=\"Accuracy\")\n",
        "plt.xlabel('Session Run')\n",
        "plt.legend()\n",
        "\n",
        "plt.show()\n",
        "\n",
        "plt.title('Epoch Times')\n",
        "plt.plot(epoch_times)\n",
        "plt.ylabel('Completion Time')\n",
        "plt.xlabel('Epoch')\n",
        "\n",
        "plt.show()"
      ],
      "execution_count": 66,
      "outputs": [
        {
          "output_type": "display_data",
          "data": {
            "image/png": "[encoded data removed]",
            "text/plain": [
              "<Figure size 576x396 with 1 Axes>"
            ]
          },
          "metadata": {
            "tags": []
          }
        },
        {
          "output_type": "display_data",
          "data": {
            "image/png": "[encoded data removed]",
            "text/plain": [
              "<Figure size 576x396 with 1 Axes>"
            ]
          },
          "metadata": {
            "tags": []
          }
        }
      ]
    },
    {
      "metadata": {
        "id": "RLwCYYXDHbPW",
        "colab_type": "text"
      },
      "cell_type": "markdown",
      "source": [
        "**Part B**"
      ]
    },
    {
      "metadata": {
        "id": "dLTeEV9SHdkq",
        "colab_type": "code",
        "colab": {
          "base_uri": "https://localhost:8080/",
          "height": 122
        },
        "outputId": "a672ddfd-9753-42b4-ec94-d17d1a390086"
      },
      "cell_type": "code",
      "source": [
        "from google.colab import drive \n",
        "drive.mount('/content/gdrive') \n",
        "\n"
      ],
      "execution_count": 54,
      "outputs": [
        {
          "output_type": "stream",
          "text": [
            "Go to this URL in a browser: https://accounts.google.com/o/oauth2/auth?client_id=947318989803-6bn6qk8qdgf4n4g3pfee6491hc0brc4i.apps.googleusercontent.com&redirect_uri=urn%3Aietf%3Awg%3Aoauth%3A2.0%3Aoob&scope=email%20https%3A%2F%2Fwww.googleapis.com%2Fauth%2Fdocs.test%20https%3A%2F%2Fwww.googleapis.com%2Fauth%2Fdrive%20https%3A%2F%2Fwww.googleapis.com%2Fauth%2Fdrive.photos.readonly%20https%3A%2F%2Fwww.googleapis.com%2Fauth%2Fpeopleapi.readonly&response_type=code\n",
            "\n",
            "Enter your authorization code:\n",
            "··········\n",
            "Mounted at /content/gdrive\n"
          ],
          "name": "stdout"
        }
      ]
    },
    {
      "metadata": {
        "id": "oPvXS3kyH0L1",
        "colab_type": "code",
        "colab": {
          "base_uri": "https://localhost:8080/",
          "height": 51
        },
        "outputId": "dd2640cd-8064-437d-9fc7-87435857e429"
      },
      "cell_type": "code",
      "source": [
        "!unzip \"/content/gdrive/My Drive/Colab Notebooks/data.zip\" "
      ],
      "execution_count": 56,
      "outputs": [
        {
          "output_type": "stream",
          "text": [
            "Archive:  /content/gdrive/My Drive/Colab Notebooks/data.zip\n",
            "replace data.h5? [y]es, [n]o, [A]ll, [N]one, [r]ename: n\n"
          ],
          "name": "stdout"
        }
      ]
    },
    {
      "metadata": {
        "id": "z5-M1kubID5F",
        "colab_type": "code",
        "colab": {
          "base_uri": "https://localhost:8080/",
          "height": 119
        },
        "outputId": "15e6c680-473a-4374-cb83-c13fca0405e0"
      },
      "cell_type": "code",
      "source": [
        "import h5py \n",
        "def loadData(): \n",
        "  with h5py.File('data.h5','r') as hf: \n",
        "    print('List of arrays in this file: \\n', hf.keys()) \n",
        "    allTrain = hf.get('trainData') \n",
        "    allTest = hf.get('testData') \n",
        "    npTrain = np.array(allTrain) \n",
        "    npTest = np.array(allTest) \n",
        "\n",
        "    print('Shape of the array dataset_1: \\n', npTrain.shape) \n",
        "    print('Shape of the array dataset_2: \\n', npTest.shape)     \n",
        "  return npTrain[:,:-1], npTrain[:, -1], npTest[:,:-1], npTest[:, -1] \n",
        "\n",
        "\n"
      ],
      "execution_count": 60,
      "outputs": [
        {
          "output_type": "stream",
          "text": [
            "List of arrays in this file: \n",
            " KeysView(<HDF5 file \"data.h5\" (mode r)>)\n",
            "Shape of the array dataset_1: \n",
            " (200000, 785)\n",
            "Shape of the array dataset_2: \n",
            " (17000, 785)\n"
          ],
          "name": "stdout"
        }
      ]
    },
    {
      "metadata": {
        "id": "W1o9wv0SjJhb",
        "colab_type": "code",
        "colab": {
          "base_uri": "https://localhost:8080/",
          "height": 119
        },
        "outputId": "eb24493e-f594-4be5-9ee0-d4055f2fa96b"
      },
      "cell_type": "code",
      "source": [
        "trainX, trainY, testX, testY = loadData() "
      ],
      "execution_count": 81,
      "outputs": [
        {
          "output_type": "stream",
          "text": [
            "List of arrays in this file: \n",
            " KeysView(<HDF5 file \"data.h5\" (mode r)>)\n",
            "Shape of the array dataset_1: \n",
            " (200000, 785)\n",
            "Shape of the array dataset_2: \n",
            " (17000, 785)\n"
          ],
          "name": "stdout"
        }
      ]
    },
    {
      "metadata": {
        "id": "86bmQpXOjKmH",
        "colab_type": "code",
        "colab": {
          "base_uri": "https://localhost:8080/",
          "height": 68
        },
        "outputId": "b5774db4-f8a0-4092-8534-9125cd2cdc3e"
      },
      "cell_type": "code",
      "source": [
        "# Normalize training data\n",
        "X_train = trainX / 255.0\n",
        "X_test = testX / 255.0\n",
        "\n",
        "number_of_classes = 10\n",
        "Y_train = trainY\n",
        "Y_test = testY\n",
        "print (\"Data extracted and reshaped: \")\n",
        "print (X_train.shape, Y_train.shape, X_test.shape, Y_test.shape)\n",
        "print (X_train.dtype, Y_train.dtype, X_test.dtype, Y_test.dtype)\n"
      ],
      "execution_count": 88,
      "outputs": [
        {
          "output_type": "stream",
          "text": [
            "Data extracted and reshaped: \n",
            "(200000, 784) (200000,) (17000, 784) (17000,)\n",
            "float64 float64 float64 float64\n"
          ],
          "name": "stdout"
        }
      ]
    },
    {
      "metadata": {
        "id": "8S4XqoANcGS0",
        "colab_type": "code",
        "colab": {
          "base_uri": "https://localhost:8080/",
          "height": 1411
        },
        "outputId": "e7216428-5225-43d4-b171-fe4e650f2a3d"
      },
      "cell_type": "code",
      "source": [
        "# Model Params\n",
        "n_inputs = 784\n",
        "n_epochs = 10\n",
        "n_layer_1 = 200\n",
        "n_softmax = 10\n",
        "n_batch_size = 256\n",
        "s_optimizer = 'adam'\n",
        "s_loss= 'sparse_categorical_crossentropy'\n",
        "a_metrics = ['accuracy']\n",
        "\n",
        "model = tf.keras.models.Sequential([\n",
        "    tf.keras.layers.Dense(n_layer_1, activation=tf.nn.relu, input_shape=(n_inputs,)),\n",
        "    tf.keras.layers.Dense(n_softmax, activation=tf.nn.softmax)])\n",
        "model.compile(optimizer=s_optimizer, loss=s_loss, \n",
        "              metrics=a_metrics)\n",
        "model.fit(X_train, Y_train, epochs=n_epochs, batch_size=n_batch_size)\n",
        "\n",
        "results = model.evaluate(X_test, Y_test)\n",
        "\n",
        "print(results)\n",
        "\n"
      ],
      "execution_count": 95,
      "outputs": [
        {
          "output_type": "stream",
          "text": [
            "Epoch 1/40\n",
            "200000/200000 [==============================] - 7s 34us/sample - loss: 2.2999 - acc: 0.2352\n",
            "Epoch 2/40\n",
            "200000/200000 [==============================] - 7s 33us/sample - loss: 2.2994 - acc: 0.2445\n",
            "Epoch 3/40\n",
            "200000/200000 [==============================] - 7s 33us/sample - loss: 2.2989 - acc: 0.3101\n",
            "Epoch 4/40\n",
            "200000/200000 [==============================] - 7s 33us/sample - loss: 2.2985 - acc: 0.2962\n",
            "Epoch 5/40\n",
            "200000/200000 [==============================] - 6s 32us/sample - loss: 2.2980 - acc: 0.3707\n",
            "Epoch 6/40\n",
            "200000/200000 [==============================] - 6s 32us/sample - loss: 2.2976 - acc: 0.3820\n",
            "Epoch 7/40\n",
            "200000/200000 [==============================] - 7s 33us/sample - loss: 2.2971 - acc: 0.4438\n",
            "Epoch 8/40\n",
            "200000/200000 [==============================] - 7s 33us/sample - loss: 2.2966 - acc: 0.4562\n",
            "Epoch 9/40\n",
            "200000/200000 [==============================] - 7s 34us/sample - loss: 2.2961 - acc: 0.4359\n",
            "Epoch 10/40\n",
            "200000/200000 [==============================] - 7s 34us/sample - loss: 2.2956 - acc: 0.4524\n",
            "Epoch 11/40\n",
            "200000/200000 [==============================] - 7s 34us/sample - loss: 2.2950 - acc: 0.4511\n",
            "Epoch 12/40\n",
            "200000/200000 [==============================] - 7s 33us/sample - loss: 2.2944 - acc: 0.4980\n",
            "Epoch 13/40\n",
            "200000/200000 [==============================] - 7s 33us/sample - loss: 2.2939 - acc: 0.4969\n",
            "Epoch 14/40\n",
            "200000/200000 [==============================] - 7s 33us/sample - loss: 2.2932 - acc: 0.4936\n",
            "Epoch 15/40\n",
            "200000/200000 [==============================] - 7s 33us/sample - loss: 2.2926 - acc: 0.4874\n",
            "Epoch 16/40\n",
            "200000/200000 [==============================] - 6s 32us/sample - loss: 2.2920 - acc: 0.4825\n",
            "Epoch 17/40\n",
            "200000/200000 [==============================] - 7s 33us/sample - loss: 2.2913 - acc: 0.5389\n",
            "Epoch 18/40\n",
            "200000/200000 [==============================] - 7s 33us/sample - loss: 2.2906 - acc: 0.5337\n",
            "Epoch 19/40\n",
            "200000/200000 [==============================] - 7s 33us/sample - loss: 2.2899 - acc: 0.5656\n",
            "Epoch 20/40\n",
            "200000/200000 [==============================] - 7s 35us/sample - loss: 2.2892 - acc: 0.5733\n",
            "Epoch 21/40\n",
            "200000/200000 [==============================] - 7s 37us/sample - loss: 2.2884 - acc: 0.5509\n",
            "Epoch 22/40\n",
            "200000/200000 [==============================] - 7s 33us/sample - loss: 2.2876 - acc: 0.5684\n",
            "Epoch 23/40\n",
            "200000/200000 [==============================] - 7s 34us/sample - loss: 2.2868 - acc: 0.5601\n",
            "Epoch 24/40\n",
            "200000/200000 [==============================] - 7s 36us/sample - loss: 2.2859 - acc: 0.5752\n",
            "Epoch 25/40\n",
            "200000/200000 [==============================] - 7s 37us/sample - loss: 2.2850 - acc: 0.5612\n",
            "Epoch 26/40\n",
            "200000/200000 [==============================] - 7s 37us/sample - loss: 2.2841 - acc: 0.5866\n",
            "Epoch 27/40\n",
            "200000/200000 [==============================] - 7s 37us/sample - loss: 2.2831 - acc: 0.5936\n",
            "Epoch 28/40\n",
            "200000/200000 [==============================] - 7s 36us/sample - loss: 2.2821 - acc: 0.5997\n",
            "Epoch 29/40\n",
            "200000/200000 [==============================] - 7s 36us/sample - loss: 2.2811 - acc: 0.5787\n",
            "Epoch 30/40\n",
            "200000/200000 [==============================] - 7s 35us/sample - loss: 2.2800 - acc: 0.6135\n",
            "Epoch 31/40\n",
            "200000/200000 [==============================] - 7s 35us/sample - loss: 2.2788 - acc: 0.5913\n",
            "Epoch 32/40\n",
            "200000/200000 [==============================] - 7s 35us/sample - loss: 2.2777 - acc: 0.6144\n",
            "Epoch 33/40\n",
            "200000/200000 [==============================] - 7s 36us/sample - loss: 2.2764 - acc: 0.6195\n",
            "Epoch 34/40\n",
            "200000/200000 [==============================] - 7s 35us/sample - loss: 2.2752 - acc: 0.6168\n",
            "Epoch 35/40\n",
            "200000/200000 [==============================] - 7s 35us/sample - loss: 2.2738 - acc: 0.6104\n",
            "Epoch 36/40\n",
            "200000/200000 [==============================] - 7s 35us/sample - loss: 2.2724 - acc: 0.6072\n",
            "Epoch 37/40\n",
            "200000/200000 [==============================] - 7s 35us/sample - loss: 2.2710 - acc: 0.6074\n",
            "Epoch 38/40\n",
            "200000/200000 [==============================] - 7s 35us/sample - loss: 2.2695 - acc: 0.6006\n",
            "Epoch 39/40\n",
            "200000/200000 [==============================] - 8s 38us/sample - loss: 2.2679 - acc: 0.6215\n",
            "Epoch 40/40\n",
            "200000/200000 [==============================] - 7s 35us/sample - loss: 2.2663 - acc: 0.6307\n",
            "17000/17000 [==============================] - 1s 56us/sample - loss: 2.2644 - acc: 0.6424\n",
            "[2.264441614038804, 0.64241177]\n"
          ],
          "name": "stdout"
        }
      ]
    }
  ]
}